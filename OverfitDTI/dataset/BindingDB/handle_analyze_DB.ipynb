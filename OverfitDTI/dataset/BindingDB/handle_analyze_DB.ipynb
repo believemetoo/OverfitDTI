{
 "cells": [
  {
   "cell_type": "code",
   "execution_count": 1,
   "metadata": {},
   "outputs": [],
   "source": [
    "#refer to DeepPurpose: https://github.com/kexinhuang12345/DeepPurpose\n",
    "\n",
    "import warnings\n",
    "warnings.filterwarnings(\"ignore\")\n",
    "import json\n",
    "import os \n",
    "print(os.path.abspath('.'))\n",
    "\n",
    "#import wget\n",
    "from zipfile import ZipFile \n",
    "#from DeepPurpose.utils import convert_y_unit\n",
    "\n",
    "import pandas as pd\n",
    "import numpy as np\n",
    "import seaborn as sns\n",
    "import matplotlib.pyplot as plt\n",
    "import seaborn as sns"
   ]
  },
  {
   "cell_type": "code",
   "execution_count": null,
   "metadata": {},
   "outputs": [],
   "source": [
    "from rdkit import Chem\n",
    "from rdkit.Chem import AllChem\n",
    "from rdkit import rdBase, Chem, DataStructs"
   ]
  },
  {
   "cell_type": "code",
   "execution_count": null,
   "metadata": {},
   "outputs": [],
   "source": [
    "def convert_y_unit(y, from_, to_):\n",
    "    # basis as nM\n",
    "\n",
    "    if from_ == 'nM':\n",
    "        y = y\n",
    "    elif from_ == 'p':\n",
    "        y = 10**(-y) / 1e-9\n",
    "\n",
    "    if to_ == 'p':\n",
    "        y = -np.log10(y*1e-9 + 1e-10)\n",
    "    elif to_ == 'nM':\n",
    "        y = y\n",
    "\n",
    "    return y"
   ]
  },
  {
   "cell_type": "code",
   "execution_count": null,
   "metadata": {},
   "outputs": [],
   "source": [
    "def process_BindingDB(path = None, df = None, y = 'Kd', binary = False, convert_to_log = True, threshold = 30):\n",
    "    if not os.path.exists(path):\n",
    "        os.makedirs(path)\n",
    "\n",
    "    if df is not None:\n",
    "        print('Loading Dataset from the pandas input...')\n",
    "    else:\n",
    "        print('Loading Dataset from path...')\n",
    "        df = pd.read_csv(path, sep = '\\t', error_bad_lines=False)\n",
    "    print('Beginning Processing...')\n",
    "    df = df[df['Number of Protein Chains in Target (>1 implies a multichain complex)'] == 1.0]\n",
    "    df = df[df['Ligand SMILES'].notnull()]\n",
    "\n",
    "    if y == 'Kd':\n",
    "        idx_str = 'Kd (nM)'\n",
    "    elif y == 'IC50':\n",
    "        idx_str = 'IC50 (nM)'\n",
    "    elif y == 'Ki':\n",
    "        idx_str = 'Ki (nM)'\n",
    "    elif y == 'EC50':\n",
    "        idx_str = 'EC50 (nM)'\n",
    "    else:\n",
    "        print('select Kd, Ki, IC50 or EC50')\n",
    "\n",
    "    df_want = df[df[idx_str].notnull()]\n",
    "    df_want = df_want[['BindingDB Reactant_set_id', 'Ligand InChI', 'Ligand SMILES',\\\n",
    "                      'PubChem CID', 'UniProt (SwissProt) Primary ID of Target Chain',\\\n",
    "                      'BindingDB Target Chain  Sequence', idx_str]]\n",
    "    df_want.rename(columns={'BindingDB Reactant_set_id':'ID',\n",
    "                            'Ligand SMILES':'SMILES',\n",
    "                            'Ligand InChI':'InChI',\n",
    "                            'PubChem CID':'PubChem_ID',\n",
    "                            'UniProt (SwissProt) Primary ID of Target Chain':'UniProt_ID',\n",
    "                            'BindingDB Target Chain  Sequence': 'Target Sequence',\n",
    "                            idx_str: 'Label'}, \n",
    "                            inplace=True)\n",
    "\n",
    "    df_want['Label'] = df_want['Label'].str.replace('>', '')\n",
    "    df_want['Label'] = df_want['Label'].str.replace('<', '')\n",
    "    df_want['Label'] = df_want['Label'].astype(float)\n",
    "    \n",
    "    # have at least uniprot or pubchem ID\n",
    "    df_want = df_want[df_want.PubChem_ID.notnull() | df_want.UniProt_ID.notnull()]\n",
    "    df_want = df_want[df_want.InChI.notnull()]\n",
    "\n",
    "    df_want = df_want[df_want.Label <= 10000000.0]\n",
    "    print('There are ' + str(len(df_want)) + ' drug target pairs.')\n",
    "\n",
    "    if binary:\n",
    "        print('Default binary threshold for the binding affinity scores are 30, you can adjust it by using the \"threshold\" parameter')\n",
    "        y = [1 if i else 0 for i in df_want.Label.values < threshold]\n",
    "    else:\n",
    "        if convert_to_log:\n",
    "            print('Default set to logspace (nM -> p) for easier regression')\n",
    "            y = convert_y_unit(df_want.Label.values, 'nM', 'p') \n",
    "        else:\n",
    "            y = df_want.Label.values\n",
    "\n",
    "    return df_want.SMILES.values, df_want['Target Sequence'].values, np.array(y)"
   ]
  },
  {
   "cell_type": "code",
   "execution_count": null,
   "metadata": {},
   "outputs": [],
   "source": [
    "smiles, targets, y = process_BindingDB(path = 'BindingDB_All.tsv', df = None, y = 'Kd', binary = False, convert_to_log = True, threshold = 10)"
   ]
  },
  {
   "cell_type": "code",
   "execution_count": null,
   "metadata": {},
   "outputs": [],
   "source": [
    "df = pd.DataFrame(zip(smiles, targets, y))\n",
    "df.rename(columns={0:'SMILES',1: 'Target Sequence',2: 'Label'}, inplace=True)\n",
    "print('in total: ' + str(len(df)) + ' drug-target pairs')"
   ]
  },
  {
   "cell_type": "code",
   "execution_count": 10,
   "metadata": {},
   "outputs": [
    {
     "data": {
      "text/plain": [
       "(66444, 3)"
      ]
     },
     "execution_count": 10,
     "metadata": {},
     "output_type": "execute_result"
    }
   ],
   "source": [
    "df.shape"
   ]
  },
  {
   "cell_type": "code",
   "execution_count": 11,
   "metadata": {},
   "outputs": [
    {
     "data": {
      "text/plain": [
       "(119, 3)"
      ]
     },
     "execution_count": 11,
     "metadata": {},
     "output_type": "execute_result"
    }
   ],
   "source": [
    "df_include_tie2=df[df.Target Sequence.isin(['MDSLASLVLCGVSLLLSGTVEGAMDLILINSLPLVSDAETSLTCIASGWRPHEPITIGRDFEALMNQHQDPLEVTQDVTREWAKKVVWKREKASKINGAYFCEGRVRGEAIRIRTMKMRQQASFLPATLTMTVDKGDNVNISFKKVLIKEEDAVIYKNGSFIHSVPRHEVPDILEVHLPHAQPQDAGVYSARYIGGNLFTSAFTRLIVRRCEAQKWGPECNHLCTACMNNGVCHEDTGECICPPGFMGRTCEKACELHTFGRTCKERCSGQEGCKSYVFCLPDPYGCSCATGWKGLQCNEACHPGFYGPDCKLRCSCNNGEMCDRFQGCLCSPGWQGLQCEREGIQRMTPKIVDLPDHIEVNSGKFNPICKASGWPLPTNEEMTLVKPDGTVLHPKDFNHTDHFSVAIFTIHRILPPDSGVWVCSVNTVAGMVEKPFNISVKVLPKPLNAPNVIDTGHNFAVINISSEPYFGDGPIKSKKLLYKPVNHYEAWQHIQVTNEIVTLNYLEPRTEYELCVQLVRRGEGGEGHPGPVRRFTTASIGLPPPRGLNLLPKSQTTLNLTWQPIFPSSEDDFYVEVERRSVQKSDQQNIKVPGNLTSVLLNNLHPREQYVVRARVNTKAQGEWSEDLTAWTLSDILPPQPENIKISNITHSSAVISWTILDGYSISSITIRYKVQGKNEDQHVDVKIKNATITQYQLKGLEPETAYQVDIFAENNIGSSNPAFSHELVTLPESQAPADLGGGKMLLIAILGSAGMTCLTVLLAFLIILQLKRANVQRRMAQAFQNVREEPAVQFNSGTLALNRKVKNNPDPTIYPVLDWNDIKFQDVIGEGNFGQVLKARIKKDGLRMDAAIKRMKEYASKDDHRDFAGELEVLCKLGHHPNIINLLGACEHRGYLYLAIEYAPHGNLLDFLRKSRVLETDPAFAIANSTASTLSSQQLLHFAADVARGMDYLSQKQFIHRDLAARNILVGENYVAKIADFGLSRGQEVYVKKTMGRLPVRWMAIESLNYSVYTTNSDVWSYGVLLWEIVSLGGTPYCGMTCAELYEKLPQGYRLEKPLNCDDEVYDLMRQCWREKPYERPSFAQILVSLNRMLEERKTYVNTTLYEKFTYAGIDCSAEEAA'])]\n",
    "df_include_tie2.shape"
   ]
  },
  {
   "cell_type": "code",
   "execution_count": 12,
   "metadata": {},
   "outputs": [],
   "source": [
    "df_include_tie2.to_csv('drug_tie2_paris_in_original_DB.csv')"
   ]
  },
  {
   "cell_type": "code",
   "execution_count": null,
   "metadata": {},
   "outputs": [],
   "source": [
    "#-------------"
   ]
  },
  {
   "cell_type": "code",
   "execution_count": 22,
   "metadata": {
    "collapsed": true
   },
   "outputs": [
    {
     "name": "stderr",
     "output_type": "stream",
     "text": [
      "RDKit ERROR: [20:54:37] Can't kekulize mol.  Unkekulized atoms: 16 17 18 19 20 21 22 23 25\n",
      "RDKit ERROR: \n"
     ]
    },
    {
     "name": "stdout",
     "output_type": "stream",
     "text": [
      "Cc1ccc(F)c(NC(=O)Nc2cnn(c2)-c2cccc3nnc(N)c23)c1\n"
     ]
    },
    {
     "name": "stderr",
     "output_type": "stream",
     "text": [
      "RDKit ERROR: [20:54:38] Explicit valence for atom # 22 N, 4, is greater than permitted\n",
      "RDKit ERROR: [20:54:38] Explicit valence for atom # 22 N, 4, is greater than permitted\n",
      "RDKit ERROR: [20:54:38] Explicit valence for atom # 22 N, 4, is greater than permitted\n",
      "RDKit ERROR: [20:54:38] Explicit valence for atom # 22 N, 4, is greater than permitted\n",
      "RDKit ERROR: [20:54:38] Explicit valence for atom # 22 N, 4, is greater than permitted\n",
      "RDKit ERROR: [20:54:38] Explicit valence for atom # 22 N, 4, is greater than permitted\n",
      "RDKit ERROR: [20:54:38] Explicit valence for atom # 22 N, 4, is greater than permitted\n",
      "RDKit ERROR: [20:54:39] Explicit valence for atom # 22 N, 4, is greater than permitted\n",
      "RDKit ERROR: [20:54:39] Explicit valence for atom # 22 N, 4, is greater than permitted\n"
     ]
    },
    {
     "name": "stdout",
     "output_type": "stream",
     "text": [
      "COc1cc2ncnc(Oc3cccc(NC(=O)NC4=CC(=[N](N4)c4ccccc4)C(F)(F)F)c3)c2cc1OC\n",
      "COc1cc2ncnc(Oc3cccc(NC(=O)NC4=CC(=[N](N4)c4ccccc4)C(F)(F)F)c3)c2cc1OC\n",
      "COc1cc2ncnc(Oc3cccc(NC(=O)NC4=CC(=[N](N4)c4ccccc4)C(F)(F)F)c3)c2cc1OC\n",
      "COc1cc2ncnc(Sc3cccc(NC(=O)NC4=CC(=[N](N4)c4ccccc4)C(F)(F)F)c3)c2cc1OC\n",
      "COc1cc2ncnc(Sc3cccc(NC(=O)NC4=CC(=[N](N4)c4ccccc4)C(F)(F)F)c3)c2cc1OC\n",
      "COc1cc2ncnc(Sc3cccc(NC(=O)NC4=CC(=[N](N4)c4ccccc4)C(F)(F)F)c3)c2cc1OC\n",
      "COc1cc2ncnc(Sc3cccc(NC(=O)NC4=CC(=[N](C)N4)C(F)(F)F)c3)c2cc1OC\n",
      "COc1cc2ncnc(Sc3cccc(NC(=O)NC4=CC(=[N](C)N4)C(F)(F)F)c3)c2cc1OC\n",
      "COc1cc2ncnc(Sc3cccc(NC(=O)NC4=CC(=[N](C)N4)C(F)(F)F)c3)c2cc1OC\n"
     ]
    }
   ],
   "source": [
    "for i, row in df.iterrows():\n",
    "    if Chem.MolFromSmiles(row[0]) is None:\n",
    "        print(row[0])\n",
    "        df.drop(index=i, inplace=True)\n",
    "        "
   ]
  },
  {
   "cell_type": "code",
   "execution_count": 23,
   "metadata": {},
   "outputs": [
    {
     "data": {
      "text/plain": [
       "(66434, 3)"
      ]
     },
     "execution_count": 23,
     "metadata": {},
     "output_type": "execute_result"
    }
   ],
   "source": [
    "df.shape"
   ]
  },
  {
   "cell_type": "code",
   "execution_count": 24,
   "metadata": {},
   "outputs": [],
   "source": [
    "smiles = np.array(df['SMILES'].values.tolist())\n",
    "targets = np.array(df['Target Sequence'].values.tolist())\n",
    "y = np.array(df['Label'].values.tolist())"
   ]
  },
  {
   "cell_type": "code",
   "execution_count": 15,
   "metadata": {},
   "outputs": [],
   "source": [
    "np.save(\"DB_smiles.npy\",smiles) \n",
    "np.save(\"DB_targets.npy\",targets)\n",
    "np.save(\"DB_y.npy\",y)"
   ]
  },
  {
   "cell_type": "code",
   "execution_count": 30,
   "metadata": {},
   "outputs": [
    {
     "data": {
      "image/png": "[encoded data removed]",
      "text/plain": [
       "<Figure size 1296x432 with 2 Axes>"
      ]
     },
     "metadata": {
      "needs_background": "light"
     },
     "output_type": "display_data"
    }
   ],
   "source": [
    "fig, ax = plt.subplots(figsize = (18, 6))\n",
    "plt.subplot(1, 2, 1);\n",
    "plt.hist(df['Label'], bins=20);\n",
    "plt.title('y');\n",
    "plt.subplot(1, 2, 2);\n",
    "sns.violinplot(data=df['Label']);\n",
    "plt.title('Violinplot of y');"
   ]
  },
  {
   "cell_type": "code",
   "execution_count": null,
   "metadata": {},
   "outputs": [],
   "source": [
    "#----------------\n",
    "#binary"
   ]
  },
  {
   "cell_type": "code",
   "execution_count": null,
   "metadata": {},
   "outputs": [],
   "source": [
    "smiles, targets, y = process_BindingDB(path = 'BindingDB_All.tsv', df = None, y = 'Kd', binary = True, convert_to_log = False, threshold = 10)"
   ]
  },
  {
   "cell_type": "code",
   "execution_count": null,
   "metadata": {},
   "outputs": [],
   "source": [
    "df_binary = pd.DataFrame(zip(smiles, targets, y))\n",
    "df_binary.rename(columns={0:'SMILES',1: 'Target Sequence',2: 'Label'}, inplace=True)\n",
    "print('in total: ' + str(len(df_binary)) + ' drug-target pairs')"
   ]
  },
  {
   "cell_type": "code",
   "execution_count": null,
   "metadata": {},
   "outputs": [],
   "source": [
    "smiles = np.array(df_binary['SMILES'].values.tolist())\n",
    "targets = np.array(df_binary['Target Sequence'].values.tolist())\n",
    "y = np.array(df_binary['Label'].values.tolist())"
   ]
  },
  {
   "cell_type": "code",
   "execution_count": null,
   "metadata": {},
   "outputs": [],
   "source": [
    "np.save(\"DB_smiles_binary.npy\",smiles) \n",
    "np.save(\"DB_targets_binary.npy\",targets)\n",
    "np.save(\"DB_y_binary.npy\",y)"
   ]
  },
  {
   "cell_type": "code",
   "execution_count": null,
   "metadata": {},
   "outputs": [],
   "source": [
    "fig, ax = plt.subplots(figsize = (18, 6))\n",
    "plt.subplot(1, 2, 1);\n",
    "plt.hist(df_binary['Label'], bins=20);\n",
    "plt.title('binary_y');\n",
    "plt.subplot(1, 2, 2);\n",
    "sns.violinplot(data=df_binary['Label']);\n",
    "plt.title('Violinplot of binary_y');"
   ]
  },
  {
   "cell_type": "code",
   "execution_count": null,
   "metadata": {},
   "outputs": [],
   "source": [
    "df_binary['Label'].value_counts()"
   ]
  },
  {
   "cell_type": "code",
   "execution_count": null,
   "metadata": {},
   "outputs": [],
   "source": []
  }
 ],
 "metadata": {
  "kernelspec": {
   "display_name": "Python 3",
   "language": "python",
   "name": "python3"
  },
  "language_info": {
   "codemirror_mode": {
    "name": "ipython",
    "version": 3
   },
   "file_extension": ".py",
   "mimetype": "text/x-python",
   "name": "python",
   "nbconvert_exporter": "python",
   "pygments_lexer": "ipython3",
   "version": "3.8.5"
  }
 },
 "nbformat": 4,
 "nbformat_minor": 2
}
