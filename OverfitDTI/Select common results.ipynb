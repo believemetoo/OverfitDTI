{
 "cells": [
  {
   "cell_type": "code",
   "execution_count": 1,
   "metadata": {},
   "outputs": [],
   "source": [
    "#-----------select the common drugs"
   ]
  },
  {
   "cell_type": "code",
   "execution_count": null,
   "metadata": {},
   "outputs": [],
   "source": [
    "import numpy as np\n",
    "import pandas as pd\n",
    "import warnings\n",
    "warnings.filterwarnings(\"ignore\")\n",
    "import os\n",
    "print(os.path.abspath('.'))"
   ]
  },
  {
   "cell_type": "code",
   "execution_count": 3,
   "metadata": {},
   "outputs": [],
   "source": [
    "def same_element(list1,list2):\n",
    "    set1 = set(list1)\n",
    "    set2 = set(list2)\n",
    "    return (set1 & set2),(set1 ^ set2),((set1|set2)-set2),((set1|set2)-set1)"
   ]
  },
  {
   "cell_type": "code",
   "execution_count": 4,
   "metadata": {},
   "outputs": [
    {
     "data": {
      "text/html": [
       "<div>\n",
       "<style scoped>\n",
       "    .dataframe tbody tr th:only-of-type {\n",
       "        vertical-align: middle;\n",
       "    }\n",
       "\n",
       "    .dataframe tbody tr th {\n",
       "        vertical-align: top;\n",
       "    }\n",
       "\n",
       "    .dataframe thead th {\n",
       "        text-align: right;\n",
       "    }\n",
       "</style>\n",
       "<table border=\"1\" class=\"dataframe\">\n",
       "  <thead>\n",
       "    <tr style=\"text-align: right;\">\n",
       "      <th></th>\n",
       "      <th>Unnamed: 0</th>\n",
       "      <th>drug</th>\n",
       "      <th>y_pred</th>\n",
       "    </tr>\n",
       "  </thead>\n",
       "  <tbody>\n",
       "    <tr>\n",
       "      <th>0</th>\n",
       "      <td>1364</td>\n",
       "      <td>CC1=C(C=C(C=C1)C(=O)NC2=CC(=C(C=C2)CN3CCN(CC3)...</td>\n",
       "      <td>14.980024</td>\n",
       "    </tr>\n",
       "    <tr>\n",
       "      <th>1</th>\n",
       "      <td>1035</td>\n",
       "      <td>CC1=CC(=C(C2=C1C3=CC(=CC(=C3C(=O)O2)O)OC)O)O</td>\n",
       "      <td>14.812361</td>\n",
       "    </tr>\n",
       "    <tr>\n",
       "      <th>2</th>\n",
       "      <td>1021</td>\n",
       "      <td>CC1=CC(=CC2=C1C3=CC(=CC(=C3C(=O)O2)O)OC)O</td>\n",
       "      <td>14.599028</td>\n",
       "    </tr>\n",
       "    <tr>\n",
       "      <th>3</th>\n",
       "      <td>1019</td>\n",
       "      <td>CC1=C(C=C2C(=C1)C(=O)C3=CC(=CC(=C3C2=O)O)OC)O</td>\n",
       "      <td>14.563701</td>\n",
       "    </tr>\n",
       "    <tr>\n",
       "      <th>4</th>\n",
       "      <td>1612</td>\n",
       "      <td>CN(C)C1CCCN(C1)C2=C(C=C(C=C2)C(F)(F)F)NC(=O)C3...</td>\n",
       "      <td>14.519209</td>\n",
       "    </tr>\n",
       "  </tbody>\n",
       "</table>\n",
       "</div>"
      ],
      "text/plain": [
       "   Unnamed: 0                                               drug     y_pred\n",
       "0        1364  CC1=C(C=C(C=C1)C(=O)NC2=CC(=C(C=C2)CN3CCN(CC3)...  14.980024\n",
       "1        1035       CC1=CC(=C(C2=C1C3=CC(=CC(=C3C(=O)O2)O)OC)O)O  14.812361\n",
       "2        1021          CC1=CC(=CC2=C1C3=CC(=CC(=C3C(=O)O2)O)OC)O  14.599028\n",
       "3        1019      CC1=C(C=C2C(=C1)C(=O)C3=CC(=CC(=C3C2=O)O)OC)O  14.563701\n",
       "4        1612  CN(C)C1CCCN(C1)C2=C(C=C(C=C2)C(F)(F)F)NC(=O)C3...  14.519209"
      ]
     },
     "execution_count": 4,
     "metadata": {},
     "output_type": "execute_result"
    }
   ],
   "source": [
    "yMC=pd.read_csv('y_pred_TIE2_MORGAN_CNN_SORTED.csv')\n",
    "yMC.head()"
   ]
  },
  {
   "cell_type": "code",
   "execution_count": 5,
   "metadata": {},
   "outputs": [],
   "source": [
    "yMC2=yMC.loc[:99,'Unnamed: 0']\n",
    "yMC3=pd.DataFrame(yMC2)"
   ]
  },
  {
   "cell_type": "code",
   "execution_count": 6,
   "metadata": {},
   "outputs": [],
   "source": [
    "yRC=pd.read_csv('y_pred_TIE2_RDKIT_CON_SORTED.csv')\n",
    "yRC2=yRC.loc[:99,'Unnamed: 0']\n",
    "yRC3=pd.DataFrame(yRC2)"
   ]
  },
  {
   "cell_type": "code",
   "execution_count": 7,
   "metadata": {},
   "outputs": [],
   "source": [
    "yCA=pd.read_csv('y_pred_TIE2_CNN_AAC_SORTED.csv')\n",
    "yCA2=yCA.loc[:99,'Unnamed: 0']\n",
    "yCA3=pd.DataFrame(yCA2)"
   ]
  },
  {
   "cell_type": "code",
   "execution_count": 9,
   "metadata": {},
   "outputs": [],
   "source": [
    "yCC=pd.read_csv('y_pred_TIE2_CNN_CNN_SORTED.csv')\n",
    "yCC2=yCC.loc[:99,'Unnamed: 0']\n",
    "yCC3=pd.DataFrame(yCC2)"
   ]
  },
  {
   "cell_type": "code",
   "execution_count": 10,
   "metadata": {},
   "outputs": [],
   "source": [
    "yMPC=pd.read_csv('y_pred_TIE2_MPNN_CNN_SORTED.csv')\n",
    "yMPC2=yMPC.loc[:99,'Unnamed: 0']\n",
    "yMPC3=pd.DataFrame(yMPC2)\n"
   ]
  },
  {
   "cell_type": "code",
   "execution_count": 11,
   "metadata": {},
   "outputs": [],
   "source": [
    "yRA=pd.read_csv('y_pred_TIE2_RDKIT_AAC_SORTED.csv')\n",
    "yRA2=yRA.loc[:99,'Unnamed: 0']\n",
    "yRA3=pd.DataFrame(yRA2)\n"
   ]
  },
  {
   "cell_type": "code",
   "execution_count": 12,
   "metadata": {},
   "outputs": [],
   "source": [
    "yRT=pd.read_csv('y_pred_TIE2_RDKIT_TRANS_SORTED.csv')\n",
    "yRT2=yRT.loc[:99,'Unnamed: 0']\n",
    "yRT3=pd.DataFrame(yRT2)\n"
   ]
  },
  {
   "cell_type": "code",
   "execution_count": 13,
   "metadata": {},
   "outputs": [],
   "source": [
    "yMA=pd.read_csv('y_pred_TIE2_MPNN_AAC_SORTED.csv')\n",
    "yMA2=yMA.loc[:99,'Unnamed: 0']\n",
    "yMA3=pd.DataFrame(yMA2)\n"
   ]
  },
  {
   "cell_type": "code",
   "execution_count": 14,
   "metadata": {},
   "outputs": [],
   "source": [
    "yMT=pd.read_csv('y_pred_TIE2_MORGAN_TRANS_SORTED.csv')\n",
    "yMT2=yMT.loc[:99,'Unnamed: 0']\n",
    "yMT3=pd.DataFrame(yMT2)\n"
   ]
  },
  {
   "cell_type": "code",
   "execution_count": 15,
   "metadata": {},
   "outputs": [],
   "source": [
    "yTA=pd.read_csv('y_pred_TIE2_TRANS_AAC_SORTED.csv')\n",
    "yTA2=yTA.loc[:99,'Unnamed: 0']\n",
    "yTA3=pd.DataFrame(yTA2)\n"
   ]
  },
  {
   "cell_type": "code",
   "execution_count": 16,
   "metadata": {},
   "outputs": [],
   "source": [
    "def same_element10(list1,list2,list3,list4,list5,list6,list7,list8,list9,list10):\n",
    "    set1 = set(list1)\n",
    "    set2 = set(list2)\n",
    "    set3 = set(list3)\n",
    "    set4 = set(list4)\n",
    "    set5 = set(list5)\n",
    "    set6 = set(list6)\n",
    "    set7 = set(list7)\n",
    "    set8 = set(list8)\n",
    "    set9 = set(list9)\n",
    "    set10 = set(list10)\n",
    "\n",
    "    return (set1 & set2 & set3 & set4 & set5 & set6 & set7 & set8 & set9 & set10)"
   ]
  },
  {
   "cell_type": "code",
   "execution_count": null,
   "metadata": {},
   "outputs": [],
   "source": [
    "same = same_element10(yMC3['Unnamed: 0'], yRC3['Unnamed: 0'], yCA3['Unnamed: 0'], yCC3['Unnamed: 0'], yMPC3['Unnamed: 0'], yRA3['Unnamed: 0'], yRT3['Unnamed: 0'], yMA3['Unnamed: 0'], yMT3['Unnamed: 0'], yTA3['Unnamed: 0'])\n",
    "print('the common drugs: ',same,'the num of common: ',len(same))"
   ]
  },
  {
   "cell_type": "code",
   "execution_count": null,
   "metadata": {},
   "outputs": [],
   "source": [
    "#{1028, 1031, 1033, 1034, 1035, 1036, 1038, 1039, 1426, 1562, 157, 1445, 1457, 1606, 843, 1361, 1364, 601, 2034, 1015, 1019, 1020, 1021, 1022, 1023} 相同元素个数： 25"
   ]
  },
  {
   "cell_type": "code",
   "execution_count": null,
   "metadata": {},
   "outputs": [],
   "source": []
  }
 ],
 "metadata": {
  "kernelspec": {
   "display_name": "Python 3",
   "language": "python",
   "name": "python3"
  },
  "language_info": {
   "codemirror_mode": {
    "name": "ipython",
    "version": 3
   },
   "file_extension": ".py",
   "mimetype": "text/x-python",
   "name": "python",
   "nbconvert_exporter": "python",
   "pygments_lexer": "ipython3",
   "version": "3.8.5"
  }
 },
 "nbformat": 4,
 "nbformat_minor": 2
}
