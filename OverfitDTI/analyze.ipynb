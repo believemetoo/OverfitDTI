{
 "cells": [
  {
   "cell_type": "code",
   "execution_count": 1,
   "metadata": {},
   "outputs": [
    {
     "name": "stdout",
     "output_type": "stream",
     "text": [
      "/home/gdp/data/DeepPurpose0/VAE_data\n"
     ]
    }
   ],
   "source": [
    "import numpy as np \n",
    "import pandas as pd \n",
    "import json\n",
    "from collections import OrderedDict\n",
    "\n",
    "import os\n",
    "print(os.path.abspath('.'))"
   ]
  },
  {
   "cell_type": "code",
   "execution_count": 2,
   "metadata": {},
   "outputs": [],
   "source": [
    "#--------------------------------------------------------------------------"
   ]
  },
  {
   "cell_type": "code",
   "execution_count": 3,
   "metadata": {},
   "outputs": [],
   "source": [
    "# KIBA\n",
    "with open('target_seq.txt') as f:\n",
    "    target = json.load(f)\n",
    "\n",
    "with open('SMILES.txt') as f:\n",
    "    drug = json.load(f)\n",
    "\n",
    "target_kiba = list(target.values())\n",
    "drug_kiba = list(drug.values())"
   ]
  },
  {
   "cell_type": "code",
   "execution_count": 4,
   "metadata": {},
   "outputs": [
    {
     "data": {
      "text/plain": [
       "(229, 2111)"
      ]
     },
     "execution_count": 4,
     "metadata": {},
     "output_type": "execute_result"
    }
   ],
   "source": [
    "len(target_kiba), len(drug_kiba)"
   ]
  },
  {
   "cell_type": "code",
   "execution_count": 5,
   "metadata": {},
   "outputs": [],
   "source": [
    "# BindingDB\n",
    "Smile = np.load(\"DB_smiles.npy\", allow_pickle=True)\n",
    "Target = np.load(\"DB_targets.npy\", allow_pickle=True)\n",
    "\n",
    "target_db = Target.tolist()\n",
    "drug_db = Smile.tolist()"
   ]
  },
  {
   "cell_type": "code",
   "execution_count": 6,
   "metadata": {},
   "outputs": [
    {
     "data": {
      "text/plain": [
       "(1413, 10661)"
      ]
     },
     "execution_count": 6,
     "metadata": {},
     "output_type": "execute_result"
    }
   ],
   "source": [
    "len(set(target_db)), len(set(drug_db))"
   ]
  },
  {
   "cell_type": "code",
   "execution_count": 7,
   "metadata": {},
   "outputs": [],
   "source": [
    "# DTC\n",
    "data=pd.read_csv('data_DTC_addsmile_addtarget.csv')\n",
    "\n",
    "drug_dtc = data['smile'].values.tolist()\n",
    "target_dtc = data['target'].values.tolist()"
   ]
  },
  {
   "cell_type": "code",
   "execution_count": 8,
   "metadata": {},
   "outputs": [
    {
     "data": {
      "text/plain": [
       "(895, 7626)"
      ]
     },
     "execution_count": 8,
     "metadata": {},
     "output_type": "execute_result"
    }
   ],
   "source": [
    "len(set(target_dtc)), len(set(drug_dtc))"
   ]
  },
  {
   "cell_type": "code",
   "execution_count": 9,
   "metadata": {},
   "outputs": [],
   "source": [
    "# Davis\n",
    "ligands = json.load(open(\"ligands_can.txt\"), object_pairs_hook=OrderedDict)\n",
    "proteins = json.load(open(\"proteins.txt\"), object_pairs_hook=OrderedDict)\n",
    "affinity = pd.read_csv('affinity.txt', header=None, sep=' ')\n",
    "\n",
    "drug_dav = []\n",
    "prots_dav = []\n",
    "y=[]\n",
    "for d in ligands.keys():\n",
    "    drug_dav.append(ligands[d])\n",
    "for t in proteins.keys():\n",
    "    prots_dav.append(proteins[t])"
   ]
  },
  {
   "cell_type": "code",
   "execution_count": 10,
   "metadata": {},
   "outputs": [
    {
     "data": {
      "text/plain": [
       "(379, 68)"
      ]
     },
     "execution_count": 10,
     "metadata": {},
     "output_type": "execute_result"
    }
   ],
   "source": [
    "len(set(prots_dav)), len(set(drug_dav))"
   ]
  },
  {
   "cell_type": "code",
   "execution_count": 11,
   "metadata": {},
   "outputs": [],
   "source": [
    "#--------------------------------------------------------------------------\n",
    "# 输出看一下具体情况"
   ]
  },
  {
   "cell_type": "code",
   "execution_count": 12,
   "metadata": {},
   "outputs": [
    {
     "data": {
      "text/plain": [
       "0"
      ]
     },
     "execution_count": 12,
     "metadata": {},
     "output_type": "execute_result"
    }
   ],
   "source": [
    "# davis\n",
    "set_same = set(drug_dtc) & set(drug_dav)\n",
    "list_same = list(set_same)\n",
    "len(list_same)"
   ]
  },
  {
   "cell_type": "code",
   "execution_count": 13,
   "metadata": {},
   "outputs": [
    {
     "data": {
      "text/plain": [
       "335"
      ]
     },
     "execution_count": 13,
     "metadata": {},
     "output_type": "execute_result"
    }
   ],
   "source": [
    "set_same = set(target_dtc) & set(prots_dav)\n",
    "list_same = list(set_same)\n",
    "len(list_same)"
   ]
  },
  {
   "cell_type": "code",
   "execution_count": 14,
   "metadata": {},
   "outputs": [
    {
     "data": {
      "text/plain": [
       "0"
      ]
     },
     "execution_count": 14,
     "metadata": {},
     "output_type": "execute_result"
    }
   ],
   "source": [
    "# same drugs\n",
    "#DB AND DTC有，而KIBA与这两个没相同drug\n",
    "set_same = set(drug_db) & set(drug_dav)\n",
    "list_same = list(set_same)\n",
    "len(list_same)"
   ]
  },
  {
   "cell_type": "code",
   "execution_count": 15,
   "metadata": {},
   "outputs": [
    {
     "data": {
      "text/plain": [
       "343"
      ]
     },
     "execution_count": 15,
     "metadata": {},
     "output_type": "execute_result"
    }
   ],
   "source": [
    "# same targets\n",
    "set_same = set(prots_dav) & set(target_db)\n",
    "list_same = list(set_same)\n",
    "len(list_same)"
   ]
  },
  {
   "cell_type": "code",
   "execution_count": 16,
   "metadata": {},
   "outputs": [
    {
     "data": {
      "text/plain": [
       "198"
      ]
     },
     "execution_count": 16,
     "metadata": {},
     "output_type": "execute_result"
    }
   ],
   "source": [
    "# same targets\n",
    "set_same = set(target_kiba) & set(target_dtc)\n",
    "list_same = list(set_same)\n",
    "len(list_same)"
   ]
  },
  {
   "cell_type": "code",
   "execution_count": 17,
   "metadata": {},
   "outputs": [
    {
     "data": {
      "text/plain": [
       "781"
      ]
     },
     "execution_count": 17,
     "metadata": {},
     "output_type": "execute_result"
    }
   ],
   "source": [
    "# same targets\n",
    "set_same = set(target_dtc) & set(target_db)\n",
    "list_same = list(set_same)\n",
    "len(list_same)"
   ]
  },
  {
   "cell_type": "code",
   "execution_count": null,
   "metadata": {},
   "outputs": [],
   "source": [
    "#--------------------------------------------------------------------------"
   ]
  },
  {
   "cell_type": "code",
   "execution_count": null,
   "metadata": {},
   "outputs": [],
   "source": [
    "# 1.unseen drugs, seen targets, 考虑如下三种情况：\n",
    "# KIBA→DTC ,即KIBA中训练，在DTC子集上验证\n",
    "# KIBA→DB ,即KIBA中训练，在DB子集上验证\n",
    "# DTC→DB ,即DTC中训练，在DB子集上验证"
   ]
  },
  {
   "cell_type": "code",
   "execution_count": 19,
   "metadata": {},
   "outputs": [],
   "source": [
    "# same targets\n",
    "# 更改数据集依次得到三种情况下的same set,例子只给一个\n",
    "set_same = set(target_dtc) & set(target_db)\n",
    "list_same = list(set_same)\n",
    "target_same = np.asarray(list_same)"
   ]
  },
  {
   "cell_type": "code",
   "execution_count": 20,
   "metadata": {},
   "outputs": [],
   "source": [
    "set_same = set(drug_db) & set(drug_dtc)\n",
    "list_same = list(set_same)\n",
    "drug_same = np.asarray(list_same)"
   ]
  },
  {
   "cell_type": "code",
   "execution_count": 21,
   "metadata": {},
   "outputs": [
    {
     "name": "stdout",
     "output_type": "stream",
     "text": [
      "Done!\n",
      "in total: 66434 drug-target pairs\n"
     ]
    }
   ],
   "source": [
    "Smile = np.load(\"DB_smiles.npy\", allow_pickle=True)\n",
    "Target = np.load(\"DB_targets.npy\", allow_pickle=True)\n",
    "y = np.load(\"DB_y.npy\", allow_pickle=True)\n",
    "print('Done!')\n",
    "\n",
    "df_DB = pd.DataFrame(zip(Smile, Target, y))\n",
    "df_DB.rename(columns={0:'SMILES',1: 'Target_Sequence',2: 'Label'}, inplace=True)\n",
    "print('in total: ' + str(len(df_DB)) + ' drug-target pairs')"
   ]
  },
  {
   "cell_type": "code",
   "execution_count": 22,
   "metadata": {},
   "outputs": [
    {
     "name": "stdout",
     "output_type": "stream",
     "text": [
      "Done!\n",
      "in total: 61479 drug-target pairs\n"
     ]
    }
   ],
   "source": [
    "Smile = np.load(\"DTC_smiles_reg.npy\", allow_pickle=True)\n",
    "Target = np.load(\"DTC_targets_reg.npy\", allow_pickle=True)\n",
    "y = np.load(\"DTC_y_reg.npy\", allow_pickle=True)\n",
    "print('Done!')\n",
    "\n",
    "df_DTC = pd.DataFrame(zip(Smile, Target, y))\n",
    "df_DTC.rename(columns={0:'SMILES',1: 'Target_Sequence',2: 'Label'}, inplace=True)\n",
    "print('in total: ' + str(len(df_DTC)) + ' drug-target pairs')"
   ]
  },
  {
   "cell_type": "code",
   "execution_count": 13,
   "metadata": {},
   "outputs": [
    {
     "name": "stdout",
     "output_type": "stream",
     "text": [
      "in total: 118254 drug-target pairs\n"
     ]
    }
   ],
   "source": [
    "affinity = pd.read_csv('affinity.txt', header=None, sep = '\\t')\n",
    "affinity = affinity.fillna(-1)\n",
    "with open('target_seq.txt') as f:\n",
    "    target = json.load(f)\n",
    "\n",
    "with open('SMILES.txt') as f:\n",
    "    drug = json.load(f)\n",
    "\n",
    "target = list(target.values())\n",
    "drug = list(drug.values())\n",
    "\n",
    "SMILES = []\n",
    "Target_seq = []\n",
    "y = []\n",
    "for i in range(len(drug)):\n",
    "    for j in range(len(target)):\n",
    "        if affinity.values[i, j] != -1:\n",
    "            SMILES.append(drug[i])\n",
    "            Target_seq.append(target[j])\n",
    "            y.append(affinity.values[i, j])\n",
    "\n",
    "Smile, Target, y = np.array(SMILES), np.array(Target_seq), np.array(y)\n",
    "\n",
    "df_KIBA = pd.DataFrame(zip(Smile, Target, y))\n",
    "df_KIBA.rename(columns={0:'SMILES',1: 'Target_Sequence',2: 'Label'}, inplace=True)\n",
    "print('in total: ' + str(len(df_KIBA)) + ' drug-target pairs')"
   ]
  },
  {
   "cell_type": "code",
   "execution_count": 23,
   "metadata": {},
   "outputs": [],
   "source": [
    "# 根据same set 筛选出db的子集\n",
    "df_DB_drugs_targets = df_DB[df_DB['Target_Sequence'].isin(target_same)]\n",
    "df_DB_undrugs_targets = df_DB_drugs_targets[~df_DB_drugs_targets['SMILES'].isin(drug_same)]"
   ]
  },
  {
   "cell_type": "code",
   "execution_count": 24,
   "metadata": {},
   "outputs": [
    {
     "data": {
      "text/plain": [
       "50947"
      ]
     },
     "execution_count": 24,
     "metadata": {},
     "output_type": "execute_result"
    }
   ],
   "source": [
    "len(df_DB_undrugs_targets)"
   ]
  },
  {
   "cell_type": "code",
   "execution_count": 25,
   "metadata": {},
   "outputs": [],
   "source": [
    "df_DB_undrugs_targets.to_csv('df_DB_undrugs_targets.csv', index = False)"
   ]
  },
  {
   "cell_type": "code",
   "execution_count": 26,
   "metadata": {},
   "outputs": [],
   "source": [
    "df_DB_drugs_untargets = df_DB[~df_DB['Target_Sequence'].isin(target_same)]\n",
    "df_DB_undrugs_untargets = df_DB_drugs_untargets[~df_DB_drugs_untargets['SMILES'].isin(drug_same)]"
   ]
  },
  {
   "cell_type": "code",
   "execution_count": 27,
   "metadata": {},
   "outputs": [
    {
     "data": {
      "text/plain": [
       "7547"
      ]
     },
     "execution_count": 27,
     "metadata": {},
     "output_type": "execute_result"
    }
   ],
   "source": [
    "len(df_DB_undrugs_untargets)"
   ]
  },
  {
   "cell_type": "code",
   "execution_count": 28,
   "metadata": {},
   "outputs": [],
   "source": [
    "df_DB_undrugs_untargets.to_csv('df_DB_undrugs_untargets.csv', index = False)"
   ]
  },
  {
   "cell_type": "code",
   "execution_count": 16,
   "metadata": {},
   "outputs": [],
   "source": [
    "# 根据same set 筛选出dtc的子集\n",
    "df_DTC_drugs_untargets = df_DTC[~df_DTC['Target_Sequence'].isin(target_same)]\n",
    "df_DTC_undrugs_untargets = df_DTC_drugs_untargets[~df_DTC_drugs_untargets['SMILES'].isin(drug_same)]"
   ]
  },
  {
   "cell_type": "code",
   "execution_count": 17,
   "metadata": {},
   "outputs": [
    {
     "data": {
      "text/plain": [
       "1387"
      ]
     },
     "execution_count": 17,
     "metadata": {},
     "output_type": "execute_result"
    }
   ],
   "source": [
    "len(df_DTC_undrugs_untargets)"
   ]
  },
  {
   "cell_type": "code",
   "execution_count": 18,
   "metadata": {},
   "outputs": [],
   "source": [
    "df_DTC_undrugs_untargets.to_csv('df_DTC_undrugs_untargets.csv', index = False)"
   ]
  },
  {
   "cell_type": "code",
   "execution_count": 36,
   "metadata": {},
   "outputs": [],
   "source": [
    "davis=pd.read_csv('df_davis.csv')"
   ]
  },
  {
   "cell_type": "code",
   "execution_count": 37,
   "metadata": {},
   "outputs": [
    {
     "data": {
      "text/plain": [
       "30056"
      ]
     },
     "execution_count": 37,
     "metadata": {},
     "output_type": "execute_result"
    }
   ],
   "source": [
    "len(davis)"
   ]
  },
  {
   "cell_type": "code",
   "execution_count": 38,
   "metadata": {},
   "outputs": [
    {
     "data": {
      "text/plain": [
       "25228"
      ]
     },
     "execution_count": 38,
     "metadata": {},
     "output_type": "execute_result"
    }
   ],
   "source": [
    "df_davis_undrugs_targets = davis[davis['Target Sequence'].isin(target_same)]\n",
    "len(df_davis_undrugs_targets)"
   ]
  },
  {
   "cell_type": "code",
   "execution_count": 39,
   "metadata": {},
   "outputs": [],
   "source": [
    "df_davis_undrugs_targets.to_csv('df_davis_undrugs_targets_dtcdavis.csv', index = False)"
   ]
  },
  {
   "cell_type": "code",
   "execution_count": 16,
   "metadata": {},
   "outputs": [],
   "source": [
    "# same targets\n",
    "set_same = set(target_dtc) & set(target_db)\n",
    "list_same = list(set_same)\n",
    "target_same = np.asarray(list_same)\n",
    "# same targets\n",
    "set_same = set(drug_db) & set(drug_dtc)\n",
    "list_same = list(set_same)\n",
    "drug_same = np.asarray(list_same)"
   ]
  },
  {
   "cell_type": "code",
   "execution_count": 18,
   "metadata": {},
   "outputs": [],
   "source": [
    "# 根据same set 筛选出DTC的子集\n",
    "df_DTC_drugs_targets = df_DTC[df_DTC['SMILES'].isin(drug_same)]\n",
    "df_DTC_drugs_untargets = df_DTC_drugs_targets[~df_DTC_drugs_targets['Target_Sequence'].isin(target_same)]"
   ]
  },
  {
   "cell_type": "code",
   "execution_count": 22,
   "metadata": {},
   "outputs": [
    {
     "data": {
      "text/plain": [
       "157"
      ]
     },
     "execution_count": 22,
     "metadata": {},
     "output_type": "execute_result"
    }
   ],
   "source": [
    "len(df_DTC_drugs_untargets)"
   ]
  },
  {
   "cell_type": "code",
   "execution_count": 23,
   "metadata": {},
   "outputs": [],
   "source": [
    "df_DTC_drugs_untargets.to_csv('df_DTC_drugs_untargets.csv', index = False)"
   ]
  },
  {
   "cell_type": "code",
   "execution_count": null,
   "metadata": {},
   "outputs": [],
   "source": []
  },
  {
   "cell_type": "code",
   "execution_count": 19,
   "metadata": {},
   "outputs": [],
   "source": [
    "DTC_undrugs_targets.to_csv('DTC_undrugs_targets.csv', index = False)\n",
    "DTC_undrugs_untargets.to_csv('DTC_undrugs_untargets.csv', index = False)"
   ]
  },
  {
   "cell_type": "code",
   "execution_count": null,
   "metadata": {},
   "outputs": [],
   "source": [
    "# 根据same set 筛选出DB的子集\n",
    "DB_undrugs_targets = df_DB[df_DB['Target Sequence'].isin(target_same)]\n",
    "\n",
    "# 根据same set 筛选出DB的子集，用于第四种情况；unseen drugs, unseen targets\n",
    "DB_undrugs_untargets = df_DB[~df_DB['Target Sequence'].isin(target_same)]"
   ]
  },
  {
   "cell_type": "code",
   "execution_count": null,
   "metadata": {},
   "outputs": [],
   "source": [
    "# 根据same set 筛选出DB的子集，注意DB与DTC有相同的drugs，需剔除！\n",
    "DTC_drugs_targets = df_DTC[df_DTC['Target Sequence'].isin(target_same)]\n",
    "\n",
    "set_same = set(drug_db) & set(drug_dtc)\n",
    "list_same = list(set_same)\n",
    "drug_same = np.asarray(list_same)\n",
    "DTC_undrugs_targets = DTC_drugs_targets[~DTC_drugs_targets['SMILES'].isin(drug_same)]\n",
    "\n",
    "# 根据same set 筛选出DTC的子集，用于第四种情况；unseen drugs, unseen targets\n",
    "DTC_drugs_untargets = df_DTC[~df_DTC['Target Sequence'].isin(target_same)]\n",
    "DTC_undrugs_untargets = DTC_drugs_untargets[~DTC_drugs_untargets['SMILES'].isin(drug_same)]"
   ]
  },
  {
   "cell_type": "code",
   "execution_count": null,
   "metadata": {},
   "outputs": [],
   "source": [
    "#-----------------"
   ]
  },
  {
   "cell_type": "code",
   "execution_count": null,
   "metadata": {},
   "outputs": [],
   "source": [
    "# 1.seen drugs, unseen targets, 考虑如下三种情况：\n",
    "# DTC→DB ,即DTC中训练，在DB子集上验证\n",
    "# DB→DTC ,即DB中训练，在DTC子集上验证\n",
    "# KIBA→DAVIS ,即KIBA中训练，在DAVIS子集上验证,这里因为KIBA与DB和DTC没有共同drugs，所以考虑了DAVIS数据集"
   ]
  },
  {
   "cell_type": "code",
   "execution_count": null,
   "metadata": {},
   "outputs": [],
   "source": [
    "# same targets\n",
    "# 更改数据集依次得到三种情况下的same set\n",
    "set_same = set(target_dtc) & set(target_db)\n",
    "list_same = list(set_same)\n",
    "target_same = np.asarray(list_same)\n",
    "\n",
    "set_same = set(drug_dtc) & set(drug_db)\n",
    "list_same = list(set_same)\n",
    "drug_same = np.asarray(list_same)"
   ]
  },
  {
   "cell_type": "code",
   "execution_count": null,
   "metadata": {},
   "outputs": [],
   "source": [
    "# 根据same set 筛选出DB的子集\n",
    "DB_drugs_targets = df_DB[df_DB['SMILES'].isin(drug_same)]\n",
    "DB_drugs_untargets = DB_drugs_targets[~DB_drugs_targets['Target Sequence'].isin(target_same)]"
   ]
  },
  {
   "cell_type": "code",
   "execution_count": null,
   "metadata": {},
   "outputs": [],
   "source": [
    "# 根据same set 筛选出DTC的子集\n",
    "DTC_drugs_targets = df_DTC[df_DTC['SMILES'].isin(drug_same)]\n",
    "DTC_drugs_untargets = DTC_drugs_targets[~DTC_drugs_targets['Target Sequence'].isin(target_same)]"
   ]
  },
  {
   "cell_type": "code",
   "execution_count": null,
   "metadata": {},
   "outputs": [],
   "source": [
    "# 根据same set 筛选出DAVIS的子集\n",
    "DAV_drugs_targets = df_DAV[df_DAV['SMILES'].isin(drug_same)]\n",
    "DAV_drugs_untargets = DAV_drugs_targets[~DAV_drugs_targets['Target Sequence'].isin(target_same)]"
   ]
  },
  {
   "cell_type": "code",
   "execution_count": null,
   "metadata": {},
   "outputs": [],
   "source": []
  }
 ],
 "metadata": {
  "kernelspec": {
   "display_name": "Python 3 (ipykernel)",
   "language": "python",
   "name": "python3"
  },
  "language_info": {
   "codemirror_mode": {
    "name": "ipython",
    "version": 3
   },
   "file_extension": ".py",
   "mimetype": "text/x-python",
   "name": "python",
   "nbconvert_exporter": "python",
   "pygments_lexer": "ipython3",
   "version": "3.7.7"
  }
 },
 "nbformat": 4,
 "nbformat_minor": 2
}
